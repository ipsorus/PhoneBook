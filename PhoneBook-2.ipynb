{
 "cells": [
  {
   "cell_type": "code",
   "execution_count": 19,
   "metadata": {},
   "outputs": [],
   "source": [
    "class Phone:\n",
    "    def __init__(self, number=None, phoneType=None):\n",
    "        self.number = number\n",
    "        self.phoneType = phoneType\n",
    "\n",
    "    def serializeCsv(self):\n",
    "        return '{}-{};'.format(self.number, self.phoneType)\n",
    "\n",
    "class PhoneArray:\n",
    "    def __init__(self):\n",
    "        self.items = []\n",
    "        \n",
    "    def append(self, phoneObject):\n",
    "        self.items.append(phoneObject)\n",
    "        print(self.items)\n",
    "    \n",
    "    def serializeCsv(self):\n",
    "        s = '{};'.format(len(self.items))\n",
    "        for item in self.items:\n",
    "            s+= item.serializeCsv()\n",
    "        return s\n",
    "    \n",
    "class Person():\n",
    "    def __init__(self, name, phones=None, email=None):\n",
    "        self.name = name\n",
    "        self.phones = phones\n",
    "        self.email = email \n",
    "\n",
    "        phone = PhoneArray()\n",
    "        phone.append(phones)\n",
    "        \n",
    "        for item in self.phones:\n",
    "            print(item.serializeCsv())\n",
    "            \n",
    "       \n",
    "            \n",
    "        print(type(phone), phone)\n",
    "\n",
    "\n",
    "    def add_phone(self, number, phoneType):\n",
    "        PhoneArray.append(Phone(number, phoneType))\n",
    "        #self.mobile = number\n",
    "        \n",
    "    #def add_office_phone(self, number):\n",
    "        #self.phoneArray.append(Phone(number, phoneType))\n",
    "        #self.office = number\n",
    "        \n",
    "    #def add_private_phone(self, number):\n",
    "        #self.phoneArray.append(Phone(number, phoneType))\n",
    "        #self.private = number\n",
    "\n",
    "    #def add_email(self, address):\n",
    "        #self.phoneArray.append(Phone(number,'mobile'))\n",
    "        #self.email = address\n",
    "        \n",
    "    def serializeCsv(self):\n",
    "        return '{};{};'.format(self.name, self.phones)\n",
    "    \n",
    "    def deserializeCsv(self, csvString):\n",
    "        a = csvString.split(';')\n",
    "        self.name=a[0]\n",
    "        self.mobile=a[1]\n",
    "        \n",
    "    #def __repr__(self):\n",
    "    #    s = ''\n",
    "    #    if  self.name is not None:            \n",
    "    #        s += self.name + '\\n'\n",
    "    #    if self.phones is not None:\n",
    "    #        s += 'phones:   %s\\n'% \n",
    "    #    if self.email is not None:\n",
    "    #        s += 'email address:  %s\\n' % self.email\n",
    "    #    return s\n",
    "    \n",
    "    \n",
    "class phoneBook():\n",
    "    def __init__(self):\n",
    "        self.telbook=[]\n",
    "        \n",
    "    def addToBook(self, person):\n",
    "        self.telbook.append(person)\n",
    "    \n",
    "    def addToFile(self):\n",
    "        book = open(\"phonebookTest.csv\",'w')\n",
    "        for item in self.telbook:\n",
    "            book.write(item.serializeCsv())\n",
    "        #book.write(str(self.items))\n",
    "        book.close()\n",
    "        \n",
    "    def readFile(self):\n",
    "        book = open(\"phonebookTest.csv\",'r')\n",
    "        self.telbook = []\n",
    "        lines = book.readlines()\n",
    "        for my_string in lines:\n",
    "            p = Person()\n",
    "            p.deserializeCsv(my_string)\n",
    "            self.telbook.append(p)\n",
    "        print(self.telbook)\n",
    "        #print(\"Было прочитано:\")\n",
    "        #print(my_string)\n",
    "        book.close()"
   ]
  },
  {
   "cell_type": "code",
   "execution_count": 20,
   "metadata": {},
   "outputs": [
    {
     "name": "stdout",
     "output_type": "stream",
     "text": [
      "[[<__main__.Phone object at 0x0000016D42887080>, <__main__.Phone object at 0x0000016D4287AE80>, <__main__.Phone object at 0x0000016D4287A2B0>]]\n",
      "121212-mobile;\n",
      "5969696-home;\n",
      "8549000-office;\n",
      "<class '__main__.PhoneArray'> <__main__.PhoneArray object at 0x0000016D4287A0F0>\n"
     ]
    }
   ],
   "source": [
    "p=Person('Tom',[Phone('121212','mobile'), Phone('5969696', 'home'), Phone('8549000', \"office\")])"
   ]
  },
  {
   "cell_type": "code",
   "execution_count": 3,
   "metadata": {},
   "outputs": [
    {
     "ename": "NameError",
     "evalue": "name 'p' is not defined",
     "output_type": "error",
     "traceback": [
      "\u001b[1;31m---------------------------------------------------------------------------\u001b[0m",
      "\u001b[1;31mNameError\u001b[0m                                 Traceback (most recent call last)",
      "\u001b[1;32m<ipython-input-3-622da700eeee>\u001b[0m in \u001b[0;36m<module>\u001b[1;34m()\u001b[0m\n\u001b[1;32m----> 1\u001b[1;33m \u001b[0mp\u001b[0m\u001b[1;33m.\u001b[0m\u001b[0mserializeCsv\u001b[0m\u001b[1;33m(\u001b[0m\u001b[1;33m)\u001b[0m\u001b[1;33m\u001b[0m\u001b[0m\n\u001b[0m",
      "\u001b[1;31mNameError\u001b[0m: name 'p' is not defined"
     ]
    }
   ],
   "source": [
    "p.serializeCsv()"
   ]
  },
  {
   "cell_type": "code",
   "execution_count": null,
   "metadata": {
    "collapsed": true
   },
   "outputs": [],
   "source": []
  }
 ],
 "metadata": {
  "kernelspec": {
   "display_name": "Python 3",
   "language": "python",
   "name": "python3"
  },
  "language_info": {
   "codemirror_mode": {
    "name": "ipython",
    "version": 3
   },
   "file_extension": ".py",
   "mimetype": "text/x-python",
   "name": "python",
   "nbconvert_exporter": "python",
   "pygments_lexer": "ipython3",
   "version": "3.6.3"
  }
 },
 "nbformat": 4,
 "nbformat_minor": 2
}

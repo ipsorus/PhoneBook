{
 "cells": [
  {
   "cell_type": "code",
   "execution_count": 1,
   "metadata": {
    "collapsed": true
   },
   "outputs": [],
   "source": [
    "class Phone:\n",
    "    def __init__(self, number, kind):\n",
    "        self.number = number\n",
    "        self.kind = kind\n",
    "\n",
    "    def serializeCsv(self):\n",
    "        return '{};{};'.format(self.number, self.kind)\n",
    "\n",
    "    \n",
    "    def __repr__(self):\n",
    "        return self.number + '->' + self.kind\n",
    "\n",
    "\n",
    "    \n",
    "class Person:\n",
    "    def __init__(self, name=None, phones=None, email=None):\n",
    "        self.name = name\n",
    "        self.phones = phones\n",
    "        self.email = email\n",
    "        \n",
    "        \n",
    "    def deserializeCsv(self, csvString):\n",
    "        a = csvString.split(';')\n",
    "        self.name=a[0]\n",
    "        phonesCount=a[1]\n",
    "        self.phones = []\n",
    "        for i in range(int(phonesCount)):\n",
    "            self.phones.append(Phone(a[i*2 + 2],a[i*2 + 3]))\n",
    "        self.email = a[-1]\n",
    "        \n",
    "    def addPhone(self, phone):\n",
    "        self.phones.append(phone)\n",
    "\n",
    "    def add_email(self, address):\n",
    "        self.email = address\n",
    "        \n",
    "    def serializeCsv(self):\n",
    "        s = '{};{};'.format(self.name, len(self.phones))\n",
    "        for phone in self.phones:\n",
    "            s += phone.serializeCsv()\n",
    "        s += '{}\\n'.format(self.email)\n",
    "        return s\n",
    "    \n",
    "    def __repr__(self):\n",
    "        s = ''\n",
    "        if  self.name is not None:                        \n",
    "            s += self.name + ', ' + str(self.phones) + ', ' + str(self.email)\n",
    "        \n",
    "        return s\n",
    "    \n",
    "    \n",
    "class phoneBook():\n",
    "    def __init__(self):\n",
    "        self.items=[]\n",
    "        \n",
    "    def addToBook(self, person):\n",
    "        self.items.append(person)\n",
    "\n",
    "        \n",
    "    def sortByBubble(self, arrayToSort):\n",
    "        a = arrayToSort\n",
    "        for i in range(len(a),0,-1):\n",
    "            for j in range(1, i):\n",
    "                if str(a[j-1].name) > str(a[j].name):\n",
    "                    tmp = a[j-1]\n",
    "                    a[j-1] = a[j]\n",
    "                    a[j] = tmp\n",
    "        return a\n",
    "    \n",
    "    def sortByName(self,arrayToSort):\n",
    "        a = arrayToSort\n",
    "        for i in range (len(a)):\n",
    "            firstContact = i\n",
    "            for j in range (i+1, len(a)):\n",
    "                if str(a[j].name) < str(a[firstContact].name):\n",
    "                    firstContact = j\n",
    "            tmp = a[firstContact]\n",
    "            a[firstContact] = a[i]\n",
    "            a[i] = tmp\n",
    "        return a\n",
    "    \n",
    "    def search(self,name): \n",
    "        found = False\n",
    "            \n",
    "        for item in self.items:            \n",
    "            if name == item.name:                \n",
    "                found = True\n",
    "                break\n",
    "\n",
    "        if found == True:\n",
    "            print(\"Найден контакт \\n\" + str(item))\n",
    "            q = input(\"Что Вы хотите сделать? 1 - Изменить имя, 2 - Изменить номер телефона, 3 - Изменить e-mail, 0 - Выход\\n\")\n",
    "            x = \"1\"\n",
    "            y = '2'\n",
    "            z = '3'\n",
    "            w = '0'\n",
    "            \n",
    "            if q == x:                    \n",
    "                tmp = str(input('Введите новое имя:'))\n",
    "                if len(tmp) != 0:\n",
    "                    item.name = tmp\n",
    "                    tmpItem = item\n",
    "                    self.items.remove(item)\n",
    "                    self.items.append(tmpItem)\n",
    "                    print (\"Редактирование прошло успешно \\n\")\n",
    "                    return self.items\n",
    "                elif len(tmp) == 0:\n",
    "                    print ('Не забудь ввести имя, растяпа!\\n')\n",
    "                    tmp = str(input('Введите новое имя:'))\n",
    "                    if len(tmp) == 0:\n",
    "                        print ('Хватит баловаться!')\n",
    "                    else:\n",
    "                        item.name = tmp\n",
    "                        tmpItem = item\n",
    "                        self.items.remove(item)\n",
    "                        self.items.append(tmpItem)\n",
    "                        print (\"Редактирование прошло успешно\\n\")\n",
    "                        return self.items\n",
    "                \n",
    "            if q == y:\n",
    "                s = 'Количество номеров у абонента: {};'.format(len(item.phones))\n",
    "                print (s)\n",
    "                print(\"Список телефонов: \\n\" + str(item.phones))\n",
    "                qw = str(input('Вы хотите изменить или добавить новый номер?: (1 - изменить, 2 - добавить)\\n'))\n",
    "                x = '1'\n",
    "                y = '2'\n",
    "                if qw == x:\n",
    "                    if len(item.phones) == 1:                    \n",
    "                        tmp_n = str(input('Введите новый номер телефона: '))\n",
    "                        tmp_k = str(input('Введите тип номера телефона: '))\n",
    "                        item.phones[0].number = tmp_n\n",
    "                        item.phones[0].kind = tmp_k\n",
    "                        tmpItem = item.phones[0]\n",
    "                        item.phones.remove(item.phones[0])\n",
    "                        item.phones.append(tmpItem)\n",
    "                        print (\"Редактирование прошло успешно\\n\")\n",
    "                        return item.phones\n",
    "                                    \n",
    "                    elif len(item.phones) > 1:\n",
    "                        t = 1\n",
    "                        for n in item.phones:\n",
    "                            sp = '{}. {}'.format(t, n)\n",
    "                            print (sp)\n",
    "                            t+=1\n",
    "                            \n",
    "                        num = int(input('Выберите какой номер Вы хотите изменить: \\n'))\n",
    "                        tmp_n = str(input('Введите новый номер телефона: '))\n",
    "                        tmp_k = str(input('Введите тип номера телефона: '))\n",
    "                        item.phones[num-1].number = tmp_n\n",
    "                        item.phones[num-1].kind = tmp_k\n",
    "                        tmpItem = item.phones[num-1]\n",
    "                        item.phones.remove(item.phones[num-1])\n",
    "                        item.phones.append(tmpItem)\n",
    "                        print (\"Редактирование прошло успешно\\n\")\n",
    "                        return item.phones\n",
    "                    \n",
    "                    else:\n",
    "                        tmp_n = str(input('Введите номер телефона: '))\n",
    "                        tmp_k = str(input('Введите тип номера телефона: '))\n",
    "                        item.phones.append(Phone(tmp_n,tmp_k))\n",
    "                        print (\"Номер успешно добавлен\\n\")\n",
    "                        return item.phones\n",
    "                        \n",
    "                if qw == y:\n",
    "                    tmp_n = str(input('Введите номер телефона: '))\n",
    "                    tmp_k = str(input('Введите тип номера телефона: '))\n",
    "                    item.phones.append(Phone(tmp_n,tmp_k))\n",
    "                    print (\"Номер успешно добавлен\\n\")\n",
    "                    return item.phones\n",
    "                \n",
    "            if q == z:                    \n",
    "                tmp = str(input('Введите адрес email:'))\n",
    "                if len(tmp) != 0:\n",
    "                    #tmp_e = item.email\n",
    "                    item.email = tmp\n",
    "                    #self.items.remove(tmp_e)\n",
    "                    #self.items.append(item.email)\n",
    "                    print (\"Редактирование прошло успешно \\n\")\n",
    "                    return item.email\n",
    "                elif len(tmp) == 0:\n",
    "                    print ('Не забудь ввести адрес email, растяпа!\\n')\n",
    "                    tmp = str(input('Введите адрес email:'))\n",
    "                    if len(tmp) == 0:\n",
    "                        print ('Хватит баловаться!')\n",
    "                    else:\n",
    "                        #tmp_e = item.email\n",
    "                        item.email = tmp\n",
    "                        #self.items.remove(item.email)\n",
    "                        #self.items.append(tmpItem)\n",
    "                        print (\"Редактирование прошло успешно\\n\")\n",
    "                        return item.email\n",
    "            else:\n",
    "                print(\"Давай, до свидания!\")\n",
    "\n",
    "        elif found == False:\n",
    "            print(\"Информация отсутствует\")        \n",
    "                \n",
    "       \n",
    "    \n",
    "    def addToFile(self):\n",
    "        book = open(\"phonebookTest.csv\",'w')\n",
    "        for item in self.items:\n",
    "            book.write(item.serializeCsv())\n",
    "        #book.write(str(self.items))\n",
    "        book.close()\n",
    "        \n",
    "        \n",
    "    def readFile(self):\n",
    "        book = open(\"phonebookTest.csv\",'r')\n",
    "        self.items = []\n",
    "        lines = book.readlines()\n",
    "        for my_string in lines:\n",
    "            p = Person()\n",
    "            p.deserializeCsv(my_string)\n",
    "            self.items.append(p)\n",
    "        print(self.items)\n",
    "        #print(\"Было прочитано:\")\n",
    "        #print(my_string)\n",
    "        book.close()"
   ]
  },
  {
   "cell_type": "code",
   "execution_count": 2,
   "metadata": {
    "collapsed": true
   },
   "outputs": [],
   "source": [
    "#Создаем абонентов\n",
    "\n",
    "p = Person('Вадим',[Phone('135689','mobile'),Phone('89043773','private'),Phone('84999433','home')], 'vadmail@mevad.com' )\n",
    "p1 = Person('Дмитрий',[Phone('789044443','private')], 'mail@me.com' )\n",
    "p2 = Person('Антон',[Phone('1344489634','mobile'),Phone('822907573','work'),Phone('84999433','home')], 'antonio@ant.ru' )\n",
    "p3 = Person('Оксана',[Phone('126480069','home'),Phone('88773338','work'),Phone('8434763','office')], 'oxi@meoxu.net' )\n",
    "p4 = Person('Толян',[Phone('14467329','mobile'),Phone('811743','private'),Phone('84881','home')], 'daimon@mel.com' )\n",
    "p5 = Person('Колян',[], 'mailkolyan@lomel.org' )\n",
    "\n"
   ]
  },
  {
   "cell_type": "code",
   "execution_count": 3,
   "metadata": {
    "collapsed": true
   },
   "outputs": [],
   "source": [
    "#Создаем список тел.книги\n",
    "phonelist=phoneBook()"
   ]
  },
  {
   "cell_type": "code",
   "execution_count": 4,
   "metadata": {
    "collapsed": true
   },
   "outputs": [],
   "source": [
    "#Добавляем абонентов в список тел.книги\n",
    "phonelist.addToBook(p)\n",
    "phonelist.addToBook(p1)\n",
    "phonelist.addToBook(p2)\n",
    "phonelist.addToBook(p3)\n",
    "phonelist.addToBook(p4)\n",
    "phonelist.addToBook(p5)"
   ]
  },
  {
   "cell_type": "code",
   "execution_count": 5,
   "metadata": {},
   "outputs": [
    {
     "data": {
      "text/plain": [
       "[Антон, [1344489634->mobile, 822907573->work, 84999433->home], antonio@ant.ru,\n",
       " Вадим, [135689->mobile, 89043773->private, 84999433->home], vadmail@mevad.com,\n",
       " Дмитрий, [789044443->private], mail@me.com,\n",
       " Колян, [], mailkolyan@lomel.org,\n",
       " Оксана, [126480069->home, 88773338->work, 8434763->office], oxi@meoxu.net,\n",
       " Толян, [14467329->mobile, 811743->private, 84881->home], daimon@mel.com]"
      ]
     },
     "execution_count": 5,
     "metadata": {},
     "output_type": "execute_result"
    }
   ],
   "source": [
    "phonelist.sortByBubble(phonelist.items)"
   ]
  },
  {
   "cell_type": "code",
   "execution_count": 6,
   "metadata": {
    "collapsed": true
   },
   "outputs": [],
   "source": [
    "#Запись списка тел.книги в файл\n",
    "phonelist.addToFile()"
   ]
  },
  {
   "cell_type": "code",
   "execution_count": 7,
   "metadata": {},
   "outputs": [
    {
     "name": "stdout",
     "output_type": "stream",
     "text": [
      "[Антон, [1344489634->mobile, 822907573->work, 84999433->home], antonio@ant.ru\n",
      ", Вадим, [135689->mobile, 89043773->private, 84999433->home], vadmail@mevad.com\n",
      ", Дмитрий, [789044443->private], mail@me.com\n",
      ", Колян, [], mailkolyan@lomel.org\n",
      ", Оксана, [126480069->home, 88773338->work, 8434763->office], oxi@meoxu.net\n",
      ", Толян, [14467329->mobile, 811743->private, 84881->home], daimon@mel.com\n",
      "]\n"
     ]
    }
   ],
   "source": [
    "#Чтение данных из файла\n",
    "phonelist.readFile()"
   ]
  },
  {
   "cell_type": "code",
   "execution_count": 10,
   "metadata": {},
   "outputs": [
    {
     "data": {
      "text/plain": [
       "[Антон, [1344489634->mobile, 822907573->work, 84999433->home], antonio@ant.ru,\n",
       " Вадим, [135689->mobile, 89043773->private, 84999433->home], vadmail@mevad.ru,\n",
       " Дмитрий, [789044443->private], mail@me.com,\n",
       " Колян, [], mailkolyan@lomel.org,\n",
       " Оксана, [126480069->home, 88773338->work, 8434763->office], oxi@meoxu.net,\n",
       " Толян, [14467329->mobile, 811743->private, 84881->home], daimon@mel.com]"
      ]
     },
     "execution_count": 10,
     "metadata": {},
     "output_type": "execute_result"
    }
   ],
   "source": [
    "phonelist.items"
   ]
  },
  {
   "cell_type": "code",
   "execution_count": 9,
   "metadata": {},
   "outputs": [
    {
     "name": "stdout",
     "output_type": "stream",
     "text": [
      "Найден контакт \n",
      "Вадим, [135689->mobile, 89043773->private, 84999433->home], vadmail@mevad.com\n",
      "\n",
      "Что Вы хотите сделать? 1 - Изменить имя, 2 - Изменить номер телефона, 3 - Изменить e-mail, 0 - Выход\n",
      "3\n",
      "Введите адрес email:vadmail@mevad.ru\n",
      "Редактирование прошло успешно \n",
      "\n"
     ]
    },
    {
     "data": {
      "text/plain": [
       "'vadmail@mevad.ru'"
      ]
     },
     "execution_count": 9,
     "metadata": {},
     "output_type": "execute_result"
    }
   ],
   "source": [
    "phonelist.search(\"Вадим\")"
   ]
  },
  {
   "cell_type": "code",
   "execution_count": 10,
   "metadata": {},
   "outputs": [
    {
     "data": {
      "text/plain": [
       "'vadmail@mevad.com'"
      ]
     },
     "execution_count": 10,
     "metadata": {},
     "output_type": "execute_result"
    }
   ],
   "source": [
    "p.email"
   ]
  },
  {
   "cell_type": "code",
   "execution_count": null,
   "metadata": {
    "collapsed": true
   },
   "outputs": [],
   "source": []
  }
 ],
 "metadata": {
  "kernelspec": {
   "display_name": "Python 3",
   "language": "python",
   "name": "python3"
  },
  "language_info": {
   "codemirror_mode": {
    "name": "ipython",
    "version": 3
   },
   "file_extension": ".py",
   "mimetype": "text/x-python",
   "name": "python",
   "nbconvert_exporter": "python",
   "pygments_lexer": "ipython3",
   "version": "3.6.3"
  }
 },
 "nbformat": 4,
 "nbformat_minor": 2
}

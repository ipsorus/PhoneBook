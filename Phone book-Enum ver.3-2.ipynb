{
 "cells": [
  {
   "cell_type": "code",
   "execution_count": 12,
   "metadata": {},
   "outputs": [],
   "source": [
    "from enum import Enum\n",
    "\n",
    "class PhoneKind(Enum):\n",
    "    mobile = 1\n",
    "    private = 2\n",
    "    home = 3\n",
    "    office = 4\n",
    "    work = 5\n",
    "    \n",
    "    def seralizeEnum(self):\n",
    "        return self.name , self.value\n",
    "\n",
    "    \n",
    "class Phone:\n",
    "    def __init__(self, number, kind):\n",
    "        self.number = number\n",
    "        self.kind = kind        \n",
    "        \n",
    "    def serializeCsv(self):\n",
    "        return '{};{};'.format(self.number, PhoneKind(self.kind).name)\n",
    "    \n",
    "    def __repr__(self):\n",
    "        return PhoneKind(self.kind).name + '->' + self.number\n",
    "    \n",
    "class Person:\n",
    "    def __init__(self, name=None, phones=None, email=None):\n",
    "        self.name = name\n",
    "        self.phones = phones\n",
    "        self.email = email        \n",
    "        \n",
    "    def deserializeCsv(self, csvString):\n",
    "        a = csvString.split(';')\n",
    "        self.name=a[0]\n",
    "        phonesCount=a[1]\n",
    "        self.phones = []\n",
    "        for i in range(int(phonesCount)):\n",
    "            self.phones.append(Phone(a[i*2 + 2],a[i*2 + 3]))\n",
    "        self.email = a[-1]\n",
    "        \n",
    "    def addPhone(self, phone):\n",
    "        self.phones.append(phone)\n",
    "\n",
    "    def add_email(self, address):\n",
    "        self.email = address\n",
    "        \n",
    "    def serializeCsv(self):\n",
    "        s = '{};{};'.format(self.name, len(self.phones))\n",
    "        for phone in self.phones:\n",
    "            s += phone.serializeCsv()\n",
    "        s += '{}\\n'.format(self.email)\n",
    "        return s\n",
    "    \n",
    "    def __repr__(self):\n",
    "        s = ''\n",
    "        if  self.name is not None:                        \n",
    "            s += self.name + ', ' + str(self.phones) + ', ' + str(self.email)        \n",
    "        return s\n",
    "    \n",
    "    \n",
    "class PhoneBook():\n",
    "    def __init__(self):\n",
    "        self.items=[]\n",
    "        \n",
    "    def addToBook(self, person):\n",
    "        self.items.append(person)        \n",
    "    \n",
    "    def addToFile(self):\n",
    "        book = open(\"phonebookTest.csv\",'w')\n",
    "        for item in self.items:\n",
    "            book.write(item.serializeCsv())\n",
    "        book.close()\n",
    "        \n",
    "    def readFile(self):\n",
    "        book = open(\"phonebookTest.csv\",'r')\n",
    "        self.items = []\n",
    "        lines = book.readlines()\n",
    "        for my_string in lines:\n",
    "            p = Person()\n",
    "            p.deserializeCsv(my_string)\n",
    "            self.items.append(p)\n",
    "        return self.items\n",
    "        book.close()\n",
    "        \n",
    "    def search(self, name):             \n",
    "        result = []\n",
    "        for item in self.items:            \n",
    "            if name == item.name: \n",
    "                result.append(item)            \n",
    "        return result\n",
    "            \n",
    "    def sortByBubble(self):        \n",
    "        a = self.items\n",
    "        for i in range(len(a),0,-1):\n",
    "            for j in range(1, i):\n",
    "                if str(a[j-1].name) > str(a[j].name):\n",
    "                    tmp = a[j-1]\n",
    "                    a[j-1] = a[j]\n",
    "                    a[j] = tmp\n",
    "       \n",
    "        return a\n",
    "\n",
    "    def sortByName(self):\n",
    "        a = self.items\n",
    "        for i in range (len(a)):\n",
    "            firstContact = i\n",
    "            for j in range (i+1, len(a)):\n",
    "                if str(a[j].name) < str(a[firstContact].name):\n",
    "                    firstContact = j\n",
    "            tmp = a[firstContact]\n",
    "            a[firstContact] = a[i]\n",
    "            a[i] = tmp\n",
    "        return a\n",
    "    \n",
    "    def sortByEmail(self):\n",
    "        a = self.items\n",
    "        for i in range (len(a)):\n",
    "            firstContact = i\n",
    "            for j in range (i+1, len(a)):\n",
    "                if str(a[j].email) < str(a[firstContact].email):\n",
    "                    firstContact = j\n",
    "            tmp = a[firstContact]\n",
    "            a[firstContact] = a[i]\n",
    "            a[i] = tmp\n",
    "        return a\n",
    "    \n",
    "    def editName(self, name, newName):\n",
    "        result = []\n",
    "        self.name = name\n",
    "        self.newName = newName\n",
    "        \n",
    "        for item in self.items:            \n",
    "            if name == item.name: \n",
    "                item.name = newName\n",
    "                result.append(item)\n",
    "        return result\n",
    "\n",
    "            \n",
    "    def editEmail(self, name, newEmail):\n",
    "        result = []\n",
    "        self.name = name\n",
    "        self.newEmail = newEmail\n",
    "            \n",
    "        for item in self.items:            \n",
    "            if self.name == item.name:                \n",
    "                item.email = newEmail\n",
    "                result.append(item)\n",
    "        return result\n",
    "    \n",
    "    def editNumber(self, name, index, newNumber):\n",
    "        result = []\n",
    "        number = []\n",
    "        self.name = name\n",
    "        self.index = index\n",
    "        self.newNumber = newNumber        \n",
    "        \n",
    "        for item in self.items:\n",
    "            if self.name == item.name:\n",
    "                number = item.phones[int(index)]    \n",
    "                item.phones[int(index)].number = newNumber\n",
    "                result.append(number)\n",
    "        return result\n",
    "            \n",
    "    def editNumberKind(self, name, index, newKind):\n",
    "        result = []\n",
    "        number = []\n",
    "        self.name = name\n",
    "        self.index = index\n",
    "        self.newKind = PhoneKind(newKind).name     \n",
    "        \n",
    "        for item in self.items:\n",
    "            if self.name == item.name:\n",
    "                number = item.phones[int(index)]    \n",
    "                item.phones[int(index)].kind = PhoneKind(newKind).name\n",
    "                result.append(number)\n",
    "        return result\n",
    "    \n",
    "\n",
    "class Controller():  \n",
    "    def __init__(self, phonesArray):        \n",
    "        self.phonesArray = phonesArray\n",
    "        self.items = self.phonesArray.items\n",
    "        \n",
    "    def addSimplePerson(self, name=None, phones=None, email=None):\n",
    "        self.phonesArray.addToBook(Person(name, phones, email))\n",
    "        \n",
    "    def sortByBubble(self):\n",
    "        self.phonesArray.sortByBubble()\n",
    "        for a in self.phonesArray.items:\n",
    "            print(a)\n",
    "    \n",
    "    def sortByName(self):\n",
    "        self.phonesArray.sortByName()\n",
    "        for a in self.phonesArray.items:\n",
    "            print(a)\n",
    "    \n",
    "    def sortByEmail(self):\n",
    "        self.phonesArray.sortByEmail()\n",
    "        for a in self.phonesArray.items:\n",
    "            print(a)\n",
    "    \n",
    "    def search(self, name):\n",
    "        items = self.phonesArray.search(name)        \n",
    "        if len(items) > 0:\n",
    "            for a in items:\n",
    "                print(a)\n",
    "        else:\n",
    "            print(\"Контакт не найден\")\n",
    "        \n",
    "    \n",
    "    def editName(self, name, newName):\n",
    "        self.name = name\n",
    "        self.newName = newName\n",
    "        items = self.phonesArray.search(name)        \n",
    "        if len(items) > 0:\n",
    "            if len(newName) > 0:\n",
    "                editedItems = self.phonesArray.editName(name, newName)\n",
    "                print ('Редактирование прошло успешно')\n",
    "                print(editedItems)\n",
    "            else:\n",
    "                print ('Новое имя не задано')            \n",
    "        else:\n",
    "            print(\"Контакт не найден\")\n",
    "            \n",
    "            \n",
    "    def editEmail(self, name, newEmail):\n",
    "        self.name = name\n",
    "        self.newEmail = newEmail\n",
    "        items = self.phonesArray.search(name)        \n",
    "        if len(items) > 0:\n",
    "            if len(newEmail) > 0:\n",
    "                editedItemEmail = self.phonesArray.editEmail(name, newEmail)\n",
    "                print ('Редактирование прошло успешно')\n",
    "                print(editedItemEmail)\n",
    "            else:\n",
    "                print('Новый email не задан')            \n",
    "        else:\n",
    "            print(\"Контакт не найден\")\n",
    "            \n",
    "    def editNumber(self, name, index, newNumber):\n",
    "        self.name = name\n",
    "        self.index = index\n",
    "        self.newNumber = newNumber        \n",
    "        \n",
    "        items = self.phonesArray.search(name)\n",
    "        \n",
    "        if len(items) > 0:\n",
    "            if len(newNumber) > 0:\n",
    "                editedItemNumber = self.phonesArray.editNumber(name, index, newNumber)\n",
    "                print ('Редактирование прошло успешно')\n",
    "                print(editedItemNumber)\n",
    "            else:\n",
    "                print('Новый номер не задан')            \n",
    "        else:\n",
    "            print(\"Контакт не найден\")\n",
    "            \n",
    "    def editNumberKind(self, name, index, newKind):\n",
    "        self.name = name\n",
    "        self.index = index\n",
    "        self.newKind = PhoneKind(newKind).name     \n",
    "        \n",
    "        items = self.phonesArray.search(name)\n",
    "        \n",
    "        if len(items) > 0:\n",
    "            if len(PhoneKind(newKind).name) > 0:\n",
    "                editedItemKind = self.phonesArray.editNumberKind(name, index, newKind)\n",
    "                print ('Редактирование прошло успешно')\n",
    "                print(editedItemKind)\n",
    "            else:\n",
    "                print('Новый тип номера не задан')\n",
    "            \n",
    "        else:\n",
    "            print(\"Контакт не найден\")\n",
    "            \n",
    "    def addToFile(self):\n",
    "        self.phonesArray.addToFile()\n",
    "        print (\"Информация добавлена в файл\")\n",
    "        \n",
    "    def readFile(self):\n",
    "        items = self.phonesArray.readFile()\n",
    "        for a in self.phonesArray.items:\n",
    "            print(a)        "
   ]
  },
  {
   "cell_type": "code",
   "execution_count": 8,
   "metadata": {},
   "outputs": [
    {
     "data": {
      "text/plain": [
       "('mobile', 1)"
      ]
     },
     "execution_count": 8,
     "metadata": {},
     "output_type": "execute_result"
    }
   ],
   "source": [
    "PhoneKind.mobile.seralizeEnum()"
   ]
  },
  {
   "cell_type": "code",
   "execution_count": 13,
   "metadata": {},
   "outputs": [],
   "source": [
    "#Создаем абонентов\n",
    "p = Person('Вадим',[Phone('135689',1),Phone('89043773',4),Phone('84999433',2)], 'vadmail@mevad.com' )\n",
    "p1 = Person('Дмитрий',[Phone('789044443',2)], 'mail@me.com' )\n",
    "p2 = Person('Антон',[Phone('1344489634',5),Phone('822907573',2),Phone('84999433',3)], 'antonio@ant.ru' )\n",
    "p3 = Person('Oxana',[Phone('126480069',2),Phone('88773338',4),Phone('8434763',1)], 'oxi@meoxu.net' )\n",
    "p4 = Person('Толян',[Phone('14467329',4),Phone('811743',1),Phone('84881',2)], 'daimon@mel.com' )\n",
    "p5 = Person('Гена',[Phone('1600689',3),Phone('8900812773',4)], 'gena@genga.org' )\n",
    "\n",
    "#Создаем список тел.книги\n",
    "phonelist=PhoneBook()\n",
    "\n",
    "#Добавляем абонентов в список тел.книги\n",
    "phonelist.addToBook(p)\n",
    "phonelist.addToBook(p1)\n",
    "phonelist.addToBook(p2)\n",
    "phonelist.addToBook(p3)\n",
    "phonelist.addToBook(p4)\n",
    "phonelist.addToBook(p5)\n",
    "\n",
    "#Создаем контроллер\n",
    "control = Controller(phonelist)\n",
    "control.addSimplePerson('Гена_1',[Phone('13009',1),Phone('89043933',4)], 'mailgen@gimel.org')"
   ]
  },
  {
   "cell_type": "code",
   "execution_count": 14,
   "metadata": {},
   "outputs": [
    {
     "name": "stdout",
     "output_type": "stream",
     "text": [
      "Oxana, [private->126480069, office->88773338, mobile->8434763], oxi@meoxu.net\n",
      "Антон, [work->1344489634, private->822907573, home->84999433], antonio@ant.ru\n",
      "Вадим, [mobile->135689, office->89043773, private->84999433], vadmail@mevad.com\n",
      "Гена, [home->1600689, office->8900812773], gena@genga.org\n",
      "Гена_1, [mobile->13009, office->89043933], mailgen@gimel.org\n",
      "Дмитрий, [private->789044443], mail@me.com\n",
      "Толян, [office->14467329, mobile->811743, private->84881], daimon@mel.com\n"
     ]
    }
   ],
   "source": [
    "#Сортировка списка контактов по имени\n",
    "control.sortByName()"
   ]
  },
  {
   "cell_type": "code",
   "execution_count": 15,
   "metadata": {},
   "outputs": [
    {
     "data": {
      "text/plain": [
       "Гена_1, [mobile->13009, office->89043933], mailgen@gimel.org"
      ]
     },
     "execution_count": 15,
     "metadata": {},
     "output_type": "execute_result"
    }
   ],
   "source": [
    "control.phonesArray.items[4]"
   ]
  },
  {
   "cell_type": "code",
   "execution_count": 16,
   "metadata": {},
   "outputs": [
    {
     "name": "stdout",
     "output_type": "stream",
     "text": [
      "Вадим, [mobile->135689, office->89043773, private->84999433], vadmail@mevad.com\n"
     ]
    }
   ],
   "source": [
    "#Поиск по имени\n",
    "control.search(\"Вадим\")"
   ]
  },
  {
   "cell_type": "code",
   "execution_count": 8,
   "metadata": {},
   "outputs": [
    {
     "name": "stdout",
     "output_type": "stream",
     "text": [
      "Редактирование прошло успешно\n",
      "[Вадик, [mobile->135689, private->89043773, home->84999433], vadmail@mevad.com]\n"
     ]
    }
   ],
   "source": [
    "#Редактирование имени\n",
    "control.editName('Вадим', 'Вадик')"
   ]
  },
  {
   "cell_type": "code",
   "execution_count": 9,
   "metadata": {},
   "outputs": [
    {
     "name": "stdout",
     "output_type": "stream",
     "text": [
      "Контакт не найден\n"
     ]
    }
   ],
   "source": [
    "#Редактирование почты\n",
    "control.editEmail('Вадик','vadimon@winner.ru')"
   ]
  },
  {
   "cell_type": "code",
   "execution_count": 8,
   "metadata": {},
   "outputs": [
    {
     "name": "stdout",
     "output_type": "stream",
     "text": [
      "Редактирование прошло успешно\n",
      "[mobile->768675578]\n"
     ]
    }
   ],
   "source": [
    "#Редактирование номера\n",
    "control.editNumber('Вадя', '0', '768675578')"
   ]
  },
  {
   "cell_type": "code",
   "execution_count": 10,
   "metadata": {},
   "outputs": [
    {
     "name": "stdout",
     "output_type": "stream",
     "text": [
      "Редактирование прошло успешно\n",
      "[work->135689]\n"
     ]
    }
   ],
   "source": [
    "#Редактирование типа номера\n",
    "control.editNumberKind('Вадик','0',5)"
   ]
  },
  {
   "cell_type": "code",
   "execution_count": 17,
   "metadata": {},
   "outputs": [
    {
     "name": "stdout",
     "output_type": "stream",
     "text": [
      "Информация добавлена в файл\n"
     ]
    }
   ],
   "source": [
    "#Запись списка тел.книги в файл\n",
    "control.addToFile()"
   ]
  },
  {
   "cell_type": "code",
   "execution_count": 18,
   "metadata": {},
   "outputs": [
    {
     "ename": "ValueError",
     "evalue": "'private' is not a valid PhoneKind",
     "output_type": "error",
     "traceback": [
      "\u001b[1;31m---------------------------------------------------------------------------\u001b[0m",
      "\u001b[1;31mValueError\u001b[0m                                Traceback (most recent call last)",
      "\u001b[1;32m<ipython-input-18-a81045bb416b>\u001b[0m in \u001b[0;36m<module>\u001b[1;34m()\u001b[0m\n\u001b[0;32m      1\u001b[0m \u001b[1;31m#Чтение данных из файла\u001b[0m\u001b[1;33m\u001b[0m\u001b[1;33m\u001b[0m\u001b[0m\n\u001b[1;32m----> 2\u001b[1;33m \u001b[0mcontrol\u001b[0m\u001b[1;33m.\u001b[0m\u001b[0mreadFile\u001b[0m\u001b[1;33m(\u001b[0m\u001b[1;33m)\u001b[0m\u001b[1;33m\u001b[0m\u001b[0m\n\u001b[0m",
      "\u001b[1;32m<ipython-input-12-b52f6805a449>\u001b[0m in \u001b[0;36mreadFile\u001b[1;34m(self)\u001b[0m\n\u001b[0;32m    279\u001b[0m         \u001b[0mitems\u001b[0m \u001b[1;33m=\u001b[0m \u001b[0mself\u001b[0m\u001b[1;33m.\u001b[0m\u001b[0mphonesArray\u001b[0m\u001b[1;33m.\u001b[0m\u001b[0mreadFile\u001b[0m\u001b[1;33m(\u001b[0m\u001b[1;33m)\u001b[0m\u001b[1;33m\u001b[0m\u001b[0m\n\u001b[0;32m    280\u001b[0m         \u001b[1;32mfor\u001b[0m \u001b[0ma\u001b[0m \u001b[1;32min\u001b[0m \u001b[0mself\u001b[0m\u001b[1;33m.\u001b[0m\u001b[0mphonesArray\u001b[0m\u001b[1;33m.\u001b[0m\u001b[0mitems\u001b[0m\u001b[1;33m:\u001b[0m\u001b[1;33m\u001b[0m\u001b[0m\n\u001b[1;32m--> 281\u001b[1;33m             \u001b[0mprint\u001b[0m\u001b[1;33m(\u001b[0m\u001b[0ma\u001b[0m\u001b[1;33m)\u001b[0m\u001b[1;33m\u001b[0m\u001b[0m\n\u001b[0m",
      "\u001b[1;32m<ipython-input-12-b52f6805a449>\u001b[0m in \u001b[0;36m__repr__\u001b[1;34m(self)\u001b[0m\n\u001b[0;32m     54\u001b[0m         \u001b[0ms\u001b[0m \u001b[1;33m=\u001b[0m \u001b[1;34m''\u001b[0m\u001b[1;33m\u001b[0m\u001b[0m\n\u001b[0;32m     55\u001b[0m         \u001b[1;32mif\u001b[0m  \u001b[0mself\u001b[0m\u001b[1;33m.\u001b[0m\u001b[0mname\u001b[0m \u001b[1;32mis\u001b[0m \u001b[1;32mnot\u001b[0m \u001b[1;32mNone\u001b[0m\u001b[1;33m:\u001b[0m\u001b[1;33m\u001b[0m\u001b[0m\n\u001b[1;32m---> 56\u001b[1;33m             \u001b[0ms\u001b[0m \u001b[1;33m+=\u001b[0m \u001b[0mself\u001b[0m\u001b[1;33m.\u001b[0m\u001b[0mname\u001b[0m \u001b[1;33m+\u001b[0m \u001b[1;34m', '\u001b[0m \u001b[1;33m+\u001b[0m \u001b[0mstr\u001b[0m\u001b[1;33m(\u001b[0m\u001b[0mself\u001b[0m\u001b[1;33m.\u001b[0m\u001b[0mphones\u001b[0m\u001b[1;33m)\u001b[0m \u001b[1;33m+\u001b[0m \u001b[1;34m', '\u001b[0m \u001b[1;33m+\u001b[0m \u001b[0mstr\u001b[0m\u001b[1;33m(\u001b[0m\u001b[0mself\u001b[0m\u001b[1;33m.\u001b[0m\u001b[0memail\u001b[0m\u001b[1;33m)\u001b[0m\u001b[1;33m\u001b[0m\u001b[0m\n\u001b[0m\u001b[0;32m     57\u001b[0m         \u001b[1;32mreturn\u001b[0m \u001b[0ms\u001b[0m\u001b[1;33m\u001b[0m\u001b[0m\n\u001b[0;32m     58\u001b[0m \u001b[1;33m\u001b[0m\u001b[0m\n",
      "\u001b[1;32m<ipython-input-12-b52f6805a449>\u001b[0m in \u001b[0;36m__repr__\u001b[1;34m(self)\u001b[0m\n\u001b[0;32m     21\u001b[0m \u001b[1;33m\u001b[0m\u001b[0m\n\u001b[0;32m     22\u001b[0m     \u001b[1;32mdef\u001b[0m \u001b[0m__repr__\u001b[0m\u001b[1;33m(\u001b[0m\u001b[0mself\u001b[0m\u001b[1;33m)\u001b[0m\u001b[1;33m:\u001b[0m\u001b[1;33m\u001b[0m\u001b[0m\n\u001b[1;32m---> 23\u001b[1;33m         \u001b[1;32mreturn\u001b[0m \u001b[0mPhoneKind\u001b[0m\u001b[1;33m(\u001b[0m\u001b[0mself\u001b[0m\u001b[1;33m.\u001b[0m\u001b[0mkind\u001b[0m\u001b[1;33m)\u001b[0m\u001b[1;33m.\u001b[0m\u001b[0mname\u001b[0m \u001b[1;33m+\u001b[0m \u001b[1;34m'->'\u001b[0m \u001b[1;33m+\u001b[0m \u001b[0mself\u001b[0m\u001b[1;33m.\u001b[0m\u001b[0mnumber\u001b[0m\u001b[1;33m\u001b[0m\u001b[0m\n\u001b[0m\u001b[0;32m     24\u001b[0m \u001b[1;33m\u001b[0m\u001b[0m\n\u001b[0;32m     25\u001b[0m \u001b[1;32mclass\u001b[0m \u001b[0mPerson\u001b[0m\u001b[1;33m:\u001b[0m\u001b[1;33m\u001b[0m\u001b[0m\n",
      "\u001b[1;32mC:\\Program Files\\Python37\\lib\\enum.py\u001b[0m in \u001b[0;36m__call__\u001b[1;34m(cls, value, names, module, qualname, type, start)\u001b[0m\n\u001b[0;32m    305\u001b[0m         \"\"\"\n\u001b[0;32m    306\u001b[0m         \u001b[1;32mif\u001b[0m \u001b[0mnames\u001b[0m \u001b[1;32mis\u001b[0m \u001b[1;32mNone\u001b[0m\u001b[1;33m:\u001b[0m  \u001b[1;31m# simple value lookup\u001b[0m\u001b[1;33m\u001b[0m\u001b[0m\n\u001b[1;32m--> 307\u001b[1;33m             \u001b[1;32mreturn\u001b[0m \u001b[0mcls\u001b[0m\u001b[1;33m.\u001b[0m\u001b[0m__new__\u001b[0m\u001b[1;33m(\u001b[0m\u001b[0mcls\u001b[0m\u001b[1;33m,\u001b[0m \u001b[0mvalue\u001b[0m\u001b[1;33m)\u001b[0m\u001b[1;33m\u001b[0m\u001b[0m\n\u001b[0m\u001b[0;32m    308\u001b[0m         \u001b[1;31m# otherwise, functional API: we're creating a new Enum type\u001b[0m\u001b[1;33m\u001b[0m\u001b[1;33m\u001b[0m\u001b[0m\n\u001b[0;32m    309\u001b[0m         \u001b[1;32mreturn\u001b[0m \u001b[0mcls\u001b[0m\u001b[1;33m.\u001b[0m\u001b[0m_create_\u001b[0m\u001b[1;33m(\u001b[0m\u001b[0mvalue\u001b[0m\u001b[1;33m,\u001b[0m \u001b[0mnames\u001b[0m\u001b[1;33m,\u001b[0m \u001b[0mmodule\u001b[0m\u001b[1;33m=\u001b[0m\u001b[0mmodule\u001b[0m\u001b[1;33m,\u001b[0m \u001b[0mqualname\u001b[0m\u001b[1;33m=\u001b[0m\u001b[0mqualname\u001b[0m\u001b[1;33m,\u001b[0m \u001b[0mtype\u001b[0m\u001b[1;33m=\u001b[0m\u001b[0mtype\u001b[0m\u001b[1;33m,\u001b[0m \u001b[0mstart\u001b[0m\u001b[1;33m=\u001b[0m\u001b[0mstart\u001b[0m\u001b[1;33m)\u001b[0m\u001b[1;33m\u001b[0m\u001b[0m\n",
      "\u001b[1;32mC:\\Program Files\\Python37\\lib\\enum.py\u001b[0m in \u001b[0;36m__new__\u001b[1;34m(cls, value)\u001b[0m\n\u001b[0;32m    553\u001b[0m                     \u001b[1;32mreturn\u001b[0m \u001b[0mmember\u001b[0m\u001b[1;33m\u001b[0m\u001b[0m\n\u001b[0;32m    554\u001b[0m         \u001b[1;31m# still not found -- try _missing_ hook\u001b[0m\u001b[1;33m\u001b[0m\u001b[1;33m\u001b[0m\u001b[0m\n\u001b[1;32m--> 555\u001b[1;33m         \u001b[1;32mreturn\u001b[0m \u001b[0mcls\u001b[0m\u001b[1;33m.\u001b[0m\u001b[0m_missing_\u001b[0m\u001b[1;33m(\u001b[0m\u001b[0mvalue\u001b[0m\u001b[1;33m)\u001b[0m\u001b[1;33m\u001b[0m\u001b[0m\n\u001b[0m\u001b[0;32m    556\u001b[0m \u001b[1;33m\u001b[0m\u001b[0m\n\u001b[0;32m    557\u001b[0m     \u001b[1;32mdef\u001b[0m \u001b[0m_generate_next_value_\u001b[0m\u001b[1;33m(\u001b[0m\u001b[0mname\u001b[0m\u001b[1;33m,\u001b[0m \u001b[0mstart\u001b[0m\u001b[1;33m,\u001b[0m \u001b[0mcount\u001b[0m\u001b[1;33m,\u001b[0m \u001b[0mlast_values\u001b[0m\u001b[1;33m)\u001b[0m\u001b[1;33m:\u001b[0m\u001b[1;33m\u001b[0m\u001b[0m\n",
      "\u001b[1;32mC:\\Program Files\\Python37\\lib\\enum.py\u001b[0m in \u001b[0;36m_missing_\u001b[1;34m(cls, value)\u001b[0m\n\u001b[0;32m    566\u001b[0m     \u001b[1;33m@\u001b[0m\u001b[0mclassmethod\u001b[0m\u001b[1;33m\u001b[0m\u001b[0m\n\u001b[0;32m    567\u001b[0m     \u001b[1;32mdef\u001b[0m \u001b[0m_missing_\u001b[0m\u001b[1;33m(\u001b[0m\u001b[0mcls\u001b[0m\u001b[1;33m,\u001b[0m \u001b[0mvalue\u001b[0m\u001b[1;33m)\u001b[0m\u001b[1;33m:\u001b[0m\u001b[1;33m\u001b[0m\u001b[0m\n\u001b[1;32m--> 568\u001b[1;33m         \u001b[1;32mraise\u001b[0m \u001b[0mValueError\u001b[0m\u001b[1;33m(\u001b[0m\u001b[1;34m\"%r is not a valid %s\"\u001b[0m \u001b[1;33m%\u001b[0m \u001b[1;33m(\u001b[0m\u001b[0mvalue\u001b[0m\u001b[1;33m,\u001b[0m \u001b[0mcls\u001b[0m\u001b[1;33m.\u001b[0m\u001b[0m__name__\u001b[0m\u001b[1;33m)\u001b[0m\u001b[1;33m)\u001b[0m\u001b[1;33m\u001b[0m\u001b[0m\n\u001b[0m\u001b[0;32m    569\u001b[0m \u001b[1;33m\u001b[0m\u001b[0m\n\u001b[0;32m    570\u001b[0m     \u001b[1;32mdef\u001b[0m \u001b[0m__repr__\u001b[0m\u001b[1;33m(\u001b[0m\u001b[0mself\u001b[0m\u001b[1;33m)\u001b[0m\u001b[1;33m:\u001b[0m\u001b[1;33m\u001b[0m\u001b[0m\n",
      "\u001b[1;31mValueError\u001b[0m: 'private' is not a valid PhoneKind"
     ]
    }
   ],
   "source": [
    "#Чтение данных из файла\n",
    "control.readFile()"
   ]
  },
  {
   "cell_type": "code",
   "execution_count": null,
   "metadata": {
    "collapsed": true
   },
   "outputs": [],
   "source": []
  }
 ],
 "metadata": {
  "kernelspec": {
   "display_name": "Python 3",
   "language": "python",
   "name": "python3"
  },
  "language_info": {
   "codemirror_mode": {
    "name": "ipython",
    "version": 3
   },
   "file_extension": ".py",
   "mimetype": "text/x-python",
   "name": "python",
   "nbconvert_exporter": "python",
   "pygments_lexer": "ipython3",
   "version": "3.7.0"
  }
 },
 "nbformat": 4,
 "nbformat_minor": 2
}

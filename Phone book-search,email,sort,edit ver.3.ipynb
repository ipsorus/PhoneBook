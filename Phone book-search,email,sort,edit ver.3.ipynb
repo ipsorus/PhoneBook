{
 "cells": [
  {
   "cell_type": "code",
   "execution_count": 1,
   "metadata": {
    "collapsed": true
   },
   "outputs": [],
   "source": [
    "class Phone:\n",
    "    def __init__(self, number, kind):\n",
    "        self.number = number\n",
    "        self.kind = kind\n",
    "\n",
    "    def serializeCsv(self):\n",
    "        return '{};{};'.format(self.number, self.kind)\n",
    "    \n",
    "    def __repr__(self):\n",
    "        return self.kind + '->' + self.number\n",
    "    \n",
    "class Person:\n",
    "    def __init__(self, name=None, phones=None, email=None):\n",
    "        self.name = name\n",
    "        self.phones = phones\n",
    "        self.email = email        \n",
    "        \n",
    "    def deserializeCsv(self, csvString):\n",
    "        a = csvString.split(';')\n",
    "        self.name=a[0]\n",
    "        phonesCount=a[1]\n",
    "        self.phones = []\n",
    "        for i in range(int(phonesCount)):\n",
    "            self.phones.append(Phone(a[i*2 + 2],a[i*2 + 3]))\n",
    "        self.email = a[-1]\n",
    "        \n",
    "    def addPhone(self, phone):\n",
    "        self.phones.append(phone)\n",
    "\n",
    "    def add_email(self, address):\n",
    "        self.email = address\n",
    "        \n",
    "    def serializeCsv(self):\n",
    "        s = '{};{};'.format(self.name, len(self.phones))\n",
    "        for phone in self.phones:\n",
    "            s += phone.serializeCsv()\n",
    "        s += '{}\\n'.format(self.email)\n",
    "        return s\n",
    "    \n",
    "    def __repr__(self):\n",
    "        s = ''\n",
    "        if  self.name is not None:                        \n",
    "            s += self.name + ', ' + str(self.phones) + ', ' + str(self.email)        \n",
    "        return s\n",
    "    \n",
    "    \n",
    "class phoneBook():\n",
    "    def __init__(self):\n",
    "        self.items=[]\n",
    "        \n",
    "    def addToBook(self, person):\n",
    "        self.items.append(person)        \n",
    "    \n",
    "    def addToFile(self):\n",
    "        book = open(\"phonebookTest.csv\",'w')\n",
    "        for item in self.items:\n",
    "            book.write(item.serializeCsv())\n",
    "        book.close()\n",
    "        \n",
    "    def readFile(self):\n",
    "        book = open(\"phonebookTest.csv\",'r')\n",
    "        self.items = []\n",
    "        lines = book.readlines()\n",
    "        for my_string in lines:\n",
    "            p = Person()\n",
    "            p.deserializeCsv(my_string)\n",
    "            self.items.append(p)\n",
    "        return self.items\n",
    "        book.close()\n",
    "        \n",
    "    def search(self, name):             \n",
    "        result = []\n",
    "        for item in self.items:            \n",
    "            if name == item.name: \n",
    "                result.append(item)            \n",
    "        return result\n",
    "            \n",
    "    def sortByBubble(self):        \n",
    "        a = self.items\n",
    "        for i in range(len(a),0,-1):\n",
    "            for j in range(1, i):\n",
    "                if str(a[j-1].name) > str(a[j].name):\n",
    "                    tmp = a[j-1]\n",
    "                    a[j-1] = a[j]\n",
    "                    a[j] = tmp\n",
    "       \n",
    "        return a\n",
    "\n",
    "    def sortByName(self):\n",
    "        a = self.items\n",
    "        for i in range (len(a)):\n",
    "            firstContact = i\n",
    "            for j in range (i+1, len(a)):\n",
    "                if str(a[j].name) < str(a[firstContact].name):\n",
    "                    firstContact = j\n",
    "            tmp = a[firstContact]\n",
    "            a[firstContact] = a[i]\n",
    "            a[i] = tmp\n",
    "        return a\n",
    "    \n",
    "    def sortByEmail(self):\n",
    "        a = self.items\n",
    "        for i in range (len(a)):\n",
    "            firstContact = i\n",
    "            for j in range (i+1, len(a)):\n",
    "                if str(a[j].email) < str(a[firstContact].email):\n",
    "                    firstContact = j\n",
    "            tmp = a[firstContact]\n",
    "            a[firstContact] = a[i]\n",
    "            a[i] = tmp\n",
    "        return a\n",
    "    \n",
    "    def editName(self, name, newName):\n",
    "        result = []\n",
    "        self.name = name\n",
    "        self.newName = newName\n",
    "        \n",
    "        for item in self.items:            \n",
    "            if name == item.name: \n",
    "                item.name = newName\n",
    "                result.append(item)\n",
    "        return result\n",
    "\n",
    "            \n",
    "    def editEmail(self, name, newEmail):\n",
    "        result = []\n",
    "        self.name = name\n",
    "        self.newEmail = newEmail\n",
    "            \n",
    "        for item in self.items:            \n",
    "            if self.name == item.name:                \n",
    "                item.email = newEmail\n",
    "                result.append(item)\n",
    "        return result\n",
    "    \n",
    "    def editNumber(self, name, index, newNumber):\n",
    "        result = []\n",
    "        number = []\n",
    "        self.name = name\n",
    "        self.index = index\n",
    "        self.newNumber = newNumber        \n",
    "        \n",
    "        for item in self.items:\n",
    "            if self.name == item.name:\n",
    "                number = item.phones[int(index)]    \n",
    "                item.phones[int(index)].number = newNumber\n",
    "                result.append(number)\n",
    "        return result\n",
    "            \n",
    "    def editNumberKind(self, name, index, newKind):\n",
    "        result = []\n",
    "        number = []\n",
    "        self.name = name\n",
    "        self.index = index\n",
    "        self.newKind = newKind     \n",
    "        \n",
    "        for item in self.items:\n",
    "            if self.name == item.name:\n",
    "                number = item.phones[int(index)]    \n",
    "                item.phones[int(index)].kind = newKind\n",
    "                result.append(number)\n",
    "        return result\n",
    "    \n",
    "\n",
    "class Controller():    \n",
    "    def __init__(self, phonesArray):        \n",
    "        self.phonesArray = phonesArray\n",
    "        self.items = self.phonesArray.items\n",
    "        \n",
    "    def sortByBubble(self):\n",
    "        phoneBook.sortByBubble(self)\n",
    "        for a in self.phonesArray.items:\n",
    "                print(a)\n",
    "    \n",
    "    def sortByName(self):\n",
    "        phoneBook.sortByName(self)\n",
    "        for a in self.phonesArray.items:\n",
    "                print(a)\n",
    "    \n",
    "    def sortByEmail(self):\n",
    "        phoneBook.sortByEmail(self)\n",
    "        for a in self.phonesArray.items:\n",
    "                print(a)\n",
    "    \n",
    "    def search(self, name):\n",
    "        items = phoneBook.search(self, name)        \n",
    "        if len(items) > 0:\n",
    "            for a in items:\n",
    "                print(a)\n",
    "        else:\n",
    "            print(\"Контакт не найден\")\n",
    "        \n",
    "    \n",
    "    def editName(self, name, newName):\n",
    "        self.name = name\n",
    "        self.newName = newName\n",
    "        items = phoneBook.search(self, name)\n",
    "        if len(items) > 0:\n",
    "            if len(newName) > 0:\n",
    "                editedItems = phoneBook.editName(self, name, newName)\n",
    "                print ('Редактирование прошло успешно')\n",
    "                print(editedItems)\n",
    "            else:\n",
    "                print ('Новое имя не задано')            \n",
    "        else:\n",
    "            print(\"Контакт не найден\")\n",
    "            \n",
    "            \n",
    "    def editEmail(self, name, newEmail):\n",
    "        self.name = name\n",
    "        self.newEmail = newEmail\n",
    "        items = phoneBook.search(self, name)        \n",
    "        if len(items) > 0:\n",
    "            if len(newEmail) > 0:\n",
    "                editedItemEmail = phoneBook.editEmail(self, name, newEmail)\n",
    "                print ('Редактирование прошло успешно')\n",
    "                print(editedItemEmail)\n",
    "            else:\n",
    "                print('Новый email не задан')            \n",
    "        else:\n",
    "            print(\"Контакт не найден\")\n",
    "            \n",
    "    def editNumber(self, name, index, newNumber):\n",
    "        self.name = name\n",
    "        self.index = index\n",
    "        self.newNumber = newNumber        \n",
    "        \n",
    "        items = phoneBook.search(self, name)\n",
    "        \n",
    "        if len(items) > 0:\n",
    "            if len(newNumber) > 0:\n",
    "                editedItemNumber = phoneBook.editNumber(self, name, index, newNumber)\n",
    "                print ('Редактирование прошло успешно')\n",
    "                print(editedItemNumber)\n",
    "            else:\n",
    "                print('Новый номер не задан')            \n",
    "        else:\n",
    "            print(\"Контакт не найден\")\n",
    "            \n",
    "    def editNumberKind(self, name, index, newKind):\n",
    "        self.name = name\n",
    "        self.index = index\n",
    "        self.newKind = newKind     \n",
    "        \n",
    "        items = phoneBook.search(self, name)\n",
    "        \n",
    "        if len(items) > 0:\n",
    "            if len(newKind) > 0:\n",
    "                editedItemKind = phoneBook.editNumberKind(self, name, index, newKind)\n",
    "                print ('Редактирование прошло успешно')\n",
    "                print(editedItemKind)\n",
    "            else:\n",
    "                print('Новый тип номера не задан')\n",
    "            \n",
    "        else:\n",
    "            print(\"Контакт не найден\")\n",
    "            \n",
    "    def addToFile(self):\n",
    "        phoneBook.addToFile(self)\n",
    "        print (\"Информация добавлена в файл\")\n",
    "        \n",
    "    def readFile(self):\n",
    "        items = phoneBook.readFile(self)\n",
    "        for a in self.phonesArray.items:\n",
    "            print(a)"
   ]
  },
  {
   "cell_type": "code",
   "execution_count": 2,
   "metadata": {
    "collapsed": true
   },
   "outputs": [],
   "source": [
    "#Создаем абонентов\n",
    "p = Person('Вадим',[Phone('135689','mobile'),Phone('89043773','private'),Phone('84999433','home')], 'vadmail@mevad.com' )\n",
    "p1 = Person('Дмитрий',[Phone('789044443','private')], 'mail@me.com' )\n",
    "p2 = Person('Антон',[Phone('1344489634','mobile'),Phone('822907573','work'),Phone('84999433','home')], 'antonio@ant.ru' )\n",
    "p3 = Person('Oxana',[Phone('126480069','home'),Phone('88773338','work'),Phone('8434763','office')], 'oxi@meoxu.net' )\n",
    "p4 = Person('Толян',[Phone('14467329','mobile'),Phone('811743','private'),Phone('84881','home')], 'daimon@mel.com' )\n",
    "p5 = Person('Гена',[], 'mailkolyan@lomel.org' )\n",
    "\n",
    "#Создаем список тел.книги\n",
    "phonelist=phoneBook()\n",
    "\n",
    "#Добавляем абонентов в список тел.книги\n",
    "phonelist.addToBook(p)\n",
    "phonelist.addToBook(p1)\n",
    "phonelist.addToBook(p2)\n",
    "phonelist.addToBook(p3)\n",
    "phonelist.addToBook(p4)\n",
    "phonelist.addToBook(p5)\n",
    "\n",
    "#Создаем контроллер\n",
    "control = Controller(phonelist)"
   ]
  },
  {
   "cell_type": "code",
   "execution_count": 3,
   "metadata": {},
   "outputs": [
    {
     "name": "stdout",
     "output_type": "stream",
     "text": [
      "Oxana, [home->126480069, work->88773338, office->8434763], oxi@meoxu.net\n",
      "Антон, [mobile->1344489634, work->822907573, home->84999433], antonio@ant.ru\n",
      "Вадим, [mobile->135689, private->89043773, home->84999433], vadmail@mevad.com\n",
      "Гена, [], mailkolyan@lomel.org\n",
      "Дмитрий, [private->789044443], mail@me.com\n",
      "Толян, [mobile->14467329, private->811743, home->84881], daimon@mel.com\n"
     ]
    }
   ],
   "source": [
    "#Сортировка списка контактов по имени\n",
    "control.sortByName()"
   ]
  },
  {
   "cell_type": "code",
   "execution_count": 74,
   "metadata": {},
   "outputs": [
    {
     "name": "stdout",
     "output_type": "stream",
     "text": [
      "Вадим, [mobile->135689, private->89043773, home->84999433], vadmail@mevad.com\n"
     ]
    }
   ],
   "source": [
    "#Поиск по имени\n",
    "control.search(\"Вадим\")"
   ]
  },
  {
   "cell_type": "code",
   "execution_count": 77,
   "metadata": {},
   "outputs": [
    {
     "name": "stdout",
     "output_type": "stream",
     "text": [
      "Редактирование прошло успешно\n",
      "[Вадя, [mobile->135689, private->89043773, home->84999433], vadmail@mevad.com]\n"
     ]
    }
   ],
   "source": [
    "#Редактирование имени\n",
    "control.editName('Вадим', 'Вадя')"
   ]
  },
  {
   "cell_type": "code",
   "execution_count": 78,
   "metadata": {},
   "outputs": [
    {
     "name": "stdout",
     "output_type": "stream",
     "text": [
      "Редактирование прошло успешно\n",
      "[Вадя, [mobile->135689, private->89043773, home->84999433], vadimon@winner.ru]\n"
     ]
    }
   ],
   "source": [
    "#Редактирование почты\n",
    "control.editEmail1('Вадя','vadimon@winner.ru')"
   ]
  },
  {
   "cell_type": "code",
   "execution_count": 69,
   "metadata": {},
   "outputs": [
    {
     "name": "stdout",
     "output_type": "stream",
     "text": [
      "Редактирование прошло успешно\n",
      "[mobile->768675578]\n"
     ]
    }
   ],
   "source": [
    "#Редактирование номера\n",
    "control.editNumber('Вадя', '0', '768675578')"
   ]
  },
  {
   "cell_type": "code",
   "execution_count": 70,
   "metadata": {},
   "outputs": [
    {
     "name": "stdout",
     "output_type": "stream",
     "text": [
      "Редактирование прошло успешно\n",
      "[рабочий->768675578]\n"
     ]
    }
   ],
   "source": [
    "#Редактирование типа номера\n",
    "control.editNumberKind('Вадя','0','рабочий')"
   ]
  },
  {
   "cell_type": "code",
   "execution_count": 4,
   "metadata": {},
   "outputs": [
    {
     "name": "stdout",
     "output_type": "stream",
     "text": [
      "Информация добавлена в файл\n"
     ]
    }
   ],
   "source": [
    "#Запись списка тел.книги в файл\n",
    "control.addToFile()"
   ]
  },
  {
   "cell_type": "code",
   "execution_count": 5,
   "metadata": {},
   "outputs": [
    {
     "name": "stdout",
     "output_type": "stream",
     "text": [
      "Oxana, [home->126480069, work->88773338, office->8434763], oxi@meoxu.net\n",
      "Антон, [mobile->1344489634, work->822907573, home->84999433], antonio@ant.ru\n",
      "Вадим, [mobile->135689, private->89043773, home->84999433], vadmail@mevad.com\n",
      "Гена, [], mailkolyan@lomel.org\n",
      "Дмитрий, [private->789044443], mail@me.com\n",
      "Толян, [mobile->14467329, private->811743, home->84881], daimon@mel.com\n"
     ]
    }
   ],
   "source": [
    "#Чтение данных из файла\n",
    "control.readFile()"
   ]
  },
  {
   "cell_type": "code",
   "execution_count": null,
   "metadata": {
    "collapsed": true
   },
   "outputs": [],
   "source": []
  }
 ],
 "metadata": {
  "kernelspec": {
   "display_name": "Python 3",
   "language": "python",
   "name": "python3"
  },
  "language_info": {
   "codemirror_mode": {
    "name": "ipython",
    "version": 3
   },
   "file_extension": ".py",
   "mimetype": "text/x-python",
   "name": "python",
   "nbconvert_exporter": "python",
   "pygments_lexer": "ipython3",
   "version": "3.6.3"
  }
 },
 "nbformat": 4,
 "nbformat_minor": 2
}

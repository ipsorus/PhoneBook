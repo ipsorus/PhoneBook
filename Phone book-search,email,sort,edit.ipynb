{
 "cells": [
  {
   "cell_type": "code",
   "execution_count": 8,
   "metadata": {
    "collapsed": true
   },
   "outputs": [],
   "source": [
    "class Phone:\n",
    "    def __init__(self, number, kind):\n",
    "        self.number = number\n",
    "        self.kind = kind\n",
    "\n",
    "    def serializeCsv(self):\n",
    "        return '{};{};'.format(self.number, self.kind)\n",
    "    \n",
    "    def __repr__(self):\n",
    "        return self.number + '->' + self.kind\n",
    "    \n",
    "class Person:\n",
    "    def __init__(self, name=None, phones=None, email=None):\n",
    "        self.name = name\n",
    "        self.phones = phones\n",
    "        self.email = email        \n",
    "        \n",
    "    def deserializeCsv(self, csvString):\n",
    "        a = csvString.split(';')\n",
    "        self.name=a[0]\n",
    "        phonesCount=a[1]\n",
    "        self.phones = []\n",
    "        for i in range(int(phonesCount)):\n",
    "            self.phones.append(Phone(a[i*2 + 2],a[i*2 + 3]))\n",
    "        self.email = a[-1]\n",
    "        \n",
    "    def addPhone(self, phone):\n",
    "        self.phones.append(phone)\n",
    "\n",
    "    def add_email(self, address):\n",
    "        self.email = address\n",
    "        \n",
    "    def serializeCsv(self):\n",
    "        s = '{};{};'.format(self.name, len(self.phones))\n",
    "        for phone in self.phones:\n",
    "            s += phone.serializeCsv()\n",
    "        s += '{}\\n'.format(self.email)\n",
    "        return s\n",
    "    \n",
    "    def __repr__(self):\n",
    "        s = ''\n",
    "        if  self.name is not None:                        \n",
    "            s += self.name + ', ' + str(self.phones) + ', ' + str(self.email)        \n",
    "        return s\n",
    "    \n",
    "    \n",
    "class phoneBook():\n",
    "    def __init__(self):\n",
    "        self.items=[]\n",
    "        \n",
    "    def addToBook(self, person):\n",
    "        self.items.append(person)        \n",
    "    \n",
    "    def addToFile(self):\n",
    "        book = open(\"phonebookTest.csv\",'w')\n",
    "        for item in self.items:\n",
    "            book.write(item.serializeCsv())\n",
    "        book.close()\n",
    "        \n",
    "    def readFile(self):\n",
    "        book = open(\"phonebookTest.csv\",'r')\n",
    "        self.items = []\n",
    "        lines = book.readlines()\n",
    "        for my_string in lines:\n",
    "            p = Person()\n",
    "            p.deserializeCsv(my_string)\n",
    "            self.items.append(p)\n",
    "        print(self.items)\n",
    "        book.close()\n",
    "        \n",
    "    def search(self, name):             \n",
    "        result = []\n",
    "        for item in self.items:            \n",
    "            if name == item.name: \n",
    "                result.append(item)            \n",
    "        return result\n",
    "            \n",
    "    def sortByBubble(self):        \n",
    "        a = self.items\n",
    "        for i in range(len(a),0,-1):\n",
    "            for j in range(1, i):\n",
    "                if str(a[j-1].name) > str(a[j].name):\n",
    "                    tmp = a[j-1]\n",
    "                    a[j-1] = a[j]\n",
    "                    a[j] = tmp\n",
    "       \n",
    "        return a\n",
    "\n",
    "    def sortByName(self):\n",
    "        a = self.items\n",
    "        for i in range (len(a)):\n",
    "            firstContact = i\n",
    "            for j in range (i+1, len(a)):\n",
    "                if str(a[j].name) < str(a[firstContact].name):\n",
    "                    firstContact = j\n",
    "            tmp = a[firstContact]\n",
    "            a[firstContact] = a[i]\n",
    "            a[i] = tmp\n",
    "        return a#Как использовать этот return в другом классе, чтобы выводить сообщение?\n",
    "    \n",
    "    def sortByEmail(self):\n",
    "        a = self.items\n",
    "        for i in range (len(a)):\n",
    "            firstContact = i\n",
    "            for j in range (i+1, len(a)):\n",
    "                if str(a[j].email) < str(a[firstContact].email):\n",
    "                    firstContact = j\n",
    "            tmp = a[firstContact]\n",
    "            a[firstContact] = a[i]\n",
    "            a[i] = tmp\n",
    "        return a#Как использовать этот return в другом классе, чтобы выводить сообщение?\n",
    "    \n",
    "    \n",
    "class Controller():    \n",
    "    def __init__(self, phonesArray):        \n",
    "        self.phonesArray = phonesArray\n",
    "        self.items = self.phonesArray.items\n",
    "        \n",
    "    def sortByBubble(self):\n",
    "        phoneBook.sortByBubble(self)\n",
    "        for a in self.phonesArray.items:\n",
    "                print(a)\n",
    "    \n",
    "    def sortByName(self):\n",
    "        phoneBook.sortByName(self)\n",
    "        for a in self.phonesArray.items:\n",
    "                print(a)\n",
    "    \n",
    "    def sortByEmail(self):\n",
    "        phoneBook.sortByEmail(self)\n",
    "        for a in self.phonesArray.items:\n",
    "                print(a)\n",
    "    \n",
    "    def search(self, name):\n",
    "        items = phoneBook.search(self, name)        \n",
    "        if len(items) > 0:\n",
    "            for a in items:\n",
    "                print(a)\n",
    "        else:\n",
    "            print(\"Информация отсутствует\")\n",
    "\n",
    "        \n",
    "    def addToFile(self):\n",
    "        phoneBook.addToFile(self)\n",
    "        print (\"Информация добавлена в файл\")            \n",
    "    \n",
    "    \n",
    "    #Редактирование работает, но как я понимаю, эти методы тоже нужно переносить в phoneBook?\n",
    "    def editName(self, oldname, newname):\n",
    "        self.oldname = oldname\n",
    "        self.newname = newname\n",
    "        found = False\n",
    "            \n",
    "        for item in self.phonesArray.items:            \n",
    "            if self.oldname == item.name:                \n",
    "                found = True\n",
    "                break\n",
    "\n",
    "        if found == True:\n",
    "            print (\"Найден контакт, \\nРедактирую имя\\n\")\n",
    "\n",
    "        elif found == False:\n",
    "            print(\"Информация отсутствует\")\n",
    "            return        \n",
    "\n",
    "        if len(newname) != 0:\n",
    "            item.name = newname\n",
    "            tmpItem = item\n",
    "            self.phonesArray.items.remove(item)\n",
    "            self.phonesArray.items.append(tmpItem)\n",
    "            print (\"Редактирование прошло успешно \\n\")\n",
    "            return item\n",
    "        elif len(newname) == 0:\n",
    "            print ('Не забудь ввести имя, растяпа!\\n')\n",
    "            \n",
    "    def editEmail(self, name, newEmail):\n",
    "        self.name = name\n",
    "        self.newEmail = newEmail\n",
    "        found = False\n",
    "            \n",
    "        for item in self.phonesArray.items:            \n",
    "            if self.name == item.name:                \n",
    "                found = True\n",
    "                break\n",
    "\n",
    "        if found == True:\n",
    "            print (\"Найден контакт, \\nРедактирую почту\\n\")\n",
    "\n",
    "        elif found == False:\n",
    "            print(\"Информация отсутствует\")\n",
    "            return        \n",
    "\n",
    "        if len(newEmail) != 0:\n",
    "            item.email = newEmail            \n",
    "            print (\"Редактирование прошло успешно \\n\")\n",
    "            return item\n",
    "        elif len(newEmail) == 0:\n",
    "            print ('Не забудь ввести почту, растяпа!\\n')"
   ]
  },
  {
   "cell_type": "code",
   "execution_count": 9,
   "metadata": {
    "collapsed": true
   },
   "outputs": [],
   "source": [
    "#Создаем абонентов\n",
    "p = Person('Вадим',[Phone('135689','mobile'),Phone('89043773','private'),Phone('84999433','home')], 'vadmail@mevad.com' )\n",
    "p1 = Person('Дмитрий',[Phone('789044443','private')], 'mail@me.com' )\n",
    "p2 = Person('Антон',[Phone('1344489634','mobile'),Phone('822907573','work'),Phone('84999433','home')], 'antonio@ant.ru' )\n",
    "p3 = Person('Oxana',[Phone('126480069','home'),Phone('88773338','work'),Phone('8434763','office')], 'oxi@meoxu.net' )\n",
    "p4 = Person('Толян',[Phone('14467329','mobile'),Phone('811743','private'),Phone('84881','home')], 'daimon@mel.com' )\n",
    "p5 = Person('Vados',[], 'mailkolyan@lomel.org' )\n",
    "\n",
    "#Создаем список тел.книги\n",
    "phonelist=phoneBook()\n",
    "\n",
    "#Добавляем абонентов в список тел.книги\n",
    "phonelist.addToBook(p)\n",
    "phonelist.addToBook(p1)\n",
    "phonelist.addToBook(p2)\n",
    "phonelist.addToBook(p3)\n",
    "phonelist.addToBook(p4)\n",
    "phonelist.addToBook(p5)"
   ]
  },
  {
   "cell_type": "code",
   "execution_count": 10,
   "metadata": {
    "collapsed": true
   },
   "outputs": [],
   "source": [
    "#Создаем контроллер\n",
    "control = Controller(phonelist)"
   ]
  },
  {
   "cell_type": "code",
   "execution_count": 4,
   "metadata": {},
   "outputs": [
    {
     "name": "stdout",
     "output_type": "stream",
     "text": [
      "Oxana, [126480069->home, 88773338->work, 8434763->office], oxi@meoxu.net\n",
      "Vados, [], mailkolyan@lomel.org\n",
      "Антон, [1344489634->mobile, 822907573->work, 84999433->home], antonio@ant.ru\n",
      "Вадим, [135689->mobile, 89043773->private, 84999433->home], vadmail@mevad.com\n",
      "Дмитрий, [789044443->private], mail@me.com\n",
      "Толян, [14467329->mobile, 811743->private, 84881->home], daimon@mel.com\n"
     ]
    }
   ],
   "source": [
    "#Сортировка списка контактов Пузырьком\n",
    "control.sortByBubble()"
   ]
  },
  {
   "cell_type": "code",
   "execution_count": 11,
   "metadata": {},
   "outputs": [
    {
     "name": "stdout",
     "output_type": "stream",
     "text": [
      "Oxana, [126480069->home, 88773338->work, 8434763->office], oxi@meoxu.net\n",
      "Vados, [], mailkolyan@lomel.org\n",
      "Антон, [1344489634->mobile, 822907573->work, 84999433->home], antonio@ant.ru\n",
      "Вадим, [135689->mobile, 89043773->private, 84999433->home], vadmail@mevad.com\n",
      "Дмитрий, [789044443->private], mail@me.com\n",
      "Толян, [14467329->mobile, 811743->private, 84881->home], daimon@mel.com\n"
     ]
    }
   ],
   "source": [
    "#Сортировка списка контактов по имени\n",
    "control.sortByName()"
   ]
  },
  {
   "cell_type": "code",
   "execution_count": 5,
   "metadata": {},
   "outputs": [
    {
     "name": "stdout",
     "output_type": "stream",
     "text": [
      "Вадим, [135689->mobile, 89043773->private, 84999433->home], vadmail@mevad.com\n"
     ]
    }
   ],
   "source": [
    "#Поиск по имени\n",
    "control.search(\"Вадим\")"
   ]
  },
  {
   "cell_type": "code",
   "execution_count": 6,
   "metadata": {},
   "outputs": [
    {
     "name": "stdout",
     "output_type": "stream",
     "text": [
      "Найден контакт, \n",
      "Редактирую почту\n",
      "\n",
      "Редактирование прошло успешно \n",
      "\n"
     ]
    },
    {
     "data": {
      "text/plain": [
       "Толян, [14467329->mobile, 811743->private, 84881->home], толик@толик.ру"
      ]
     },
     "execution_count": 6,
     "metadata": {},
     "output_type": "execute_result"
    }
   ],
   "source": [
    "#Редактирование имени контакта\n",
    "control.editEmail(\"Толян\",\"толик@толик.ру\")"
   ]
  },
  {
   "cell_type": "code",
   "execution_count": 7,
   "metadata": {},
   "outputs": [
    {
     "ename": "NameError",
     "evalue": "name 'a' is not defined",
     "output_type": "error",
     "traceback": [
      "\u001b[1;31m---------------------------------------------------------------------------\u001b[0m",
      "\u001b[1;31mNameError\u001b[0m                                 Traceback (most recent call last)",
      "\u001b[1;32m<ipython-input-7-6c84c47d8928>\u001b[0m in \u001b[0;36m<module>\u001b[1;34m()\u001b[0m\n\u001b[1;32m----> 1\u001b[1;33m \u001b[0mcontrol\u001b[0m\u001b[1;33m.\u001b[0m\u001b[0msortByEmail\u001b[0m\u001b[1;33m(\u001b[0m\u001b[1;33m)\u001b[0m\u001b[1;33m\u001b[0m\u001b[0m\n\u001b[0m",
      "\u001b[1;32m<ipython-input-1-7f3a3ec78185>\u001b[0m in \u001b[0;36msortByEmail\u001b[1;34m(self)\u001b[0m\n\u001b[0;32m    128\u001b[0m     \u001b[1;32mdef\u001b[0m \u001b[0msortByEmail\u001b[0m\u001b[1;33m(\u001b[0m\u001b[0mself\u001b[0m\u001b[1;33m)\u001b[0m\u001b[1;33m:\u001b[0m\u001b[1;33m\u001b[0m\u001b[0m\n\u001b[0;32m    129\u001b[0m         \u001b[0mphoneBook\u001b[0m\u001b[1;33m.\u001b[0m\u001b[0msortByEmail\u001b[0m\u001b[1;33m(\u001b[0m\u001b[0mself\u001b[0m\u001b[1;33m)\u001b[0m\u001b[1;33m\u001b[0m\u001b[0m\n\u001b[1;32m--> 130\u001b[1;33m         \u001b[0mprint\u001b[0m \u001b[1;33m(\u001b[0m\u001b[0ma\u001b[0m\u001b[1;33m)\u001b[0m\u001b[1;33m\u001b[0m\u001b[0m\n\u001b[0m\u001b[0;32m    131\u001b[0m \u001b[1;33m\u001b[0m\u001b[0m\n\u001b[0;32m    132\u001b[0m     \u001b[1;32mdef\u001b[0m \u001b[0msearch\u001b[0m\u001b[1;33m(\u001b[0m\u001b[0mself\u001b[0m\u001b[1;33m,\u001b[0m \u001b[0mname\u001b[0m\u001b[1;33m)\u001b[0m\u001b[1;33m:\u001b[0m\u001b[1;33m\u001b[0m\u001b[0m\n",
      "\u001b[1;31mNameError\u001b[0m: name 'a' is not defined"
     ]
    }
   ],
   "source": [
    "control.sortByEmail()"
   ]
  },
  {
   "cell_type": "code",
   "execution_count": 9,
   "metadata": {},
   "outputs": [
    {
     "name": "stdout",
     "output_type": "stream",
     "text": [
      "Информация добавлена в файл\n"
     ]
    }
   ],
   "source": [
    "control.addToFile()"
   ]
  },
  {
   "cell_type": "code",
   "execution_count": 9,
   "metadata": {
    "collapsed": true
   },
   "outputs": [],
   "source": [
    "#Запись списка тел.книги в файл\n",
    "phonelist.addToFile()"
   ]
  },
  {
   "cell_type": "code",
   "execution_count": 14,
   "metadata": {},
   "outputs": [
    {
     "name": "stdout",
     "output_type": "stream",
     "text": [
      "[Антон, [1344489634->mobile, 822907573->work, 84999433->home], antonio@ant.ru\n",
      ", Дмитрий, [789044443->private], mail@me.com\n",
      ", Вадим, [], mailkolyan@lomel.org\n",
      ", Оксана, [126480069->home, 88773338->work, 8434763->office], oxi@meoxu.net\n",
      ", Вадим, [135689->mobile, 89043773->private, 84999433->home], vadmail@mevad.com\n",
      ", Толян, [14467329->mobile, 811743->private, 84881->home], толик@толик.ру\n",
      "]\n"
     ]
    }
   ],
   "source": [
    "#Чтение данных из файла\n",
    "phonelist.readFile()"
   ]
  },
  {
   "cell_type": "code",
   "execution_count": null,
   "metadata": {
    "collapsed": true
   },
   "outputs": [],
   "source": []
  }
 ],
 "metadata": {
  "kernelspec": {
   "display_name": "Python 3",
   "language": "python",
   "name": "python3"
  },
  "language_info": {
   "codemirror_mode": {
    "name": "ipython",
    "version": 3
   },
   "file_extension": ".py",
   "mimetype": "text/x-python",
   "name": "python",
   "nbconvert_exporter": "python",
   "pygments_lexer": "ipython3",
   "version": "3.7.0"
  }
 },
 "nbformat": 4,
 "nbformat_minor": 2
}
